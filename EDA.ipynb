{
 "cells": [
  {
   "cell_type": "markdown",
   "metadata": {},
   "source": [
    "# Exploratory Data Analysis"
   ]
  },
  {
   "cell_type": "markdown",
   "metadata": {},
   "source": [
    "Libraries"
   ]
  },
  {
   "cell_type": "code",
   "execution_count": 2,
   "metadata": {},
   "outputs": [],
   "source": [
    "import numpy as np \n",
    "import pandas as pd \n",
    "from sklearn.metrics import accuracy_score, classification_report \n",
    "from sklearn.linear_model import LogisticRegression\n",
    "from sklearn.model_selection import train_test_split \n",
    "from sklearn.model_selection import learning_curve\n",
    "import joblib \n",
    "import seaborn as sns \n",
    "import warnings \n",
    "import matplotlib.pyplot as plt \n",
    "\n",
    "warnings.filterwarnings(\"ignore\")"
   ]
  },
  {
   "cell_type": "markdown",
   "metadata": {},
   "source": [
    "Loading the Dataset"
   ]
  },
  {
   "cell_type": "code",
   "execution_count": 5,
   "metadata": {},
   "outputs": [],
   "source": [
    "file_path = \"hypertension_dataset.csv\"\n",
    "df = pd.read_csv(file_path)"
   ]
  },
  {
   "cell_type": "code",
   "execution_count": 6,
   "metadata": {},
   "outputs": [
    {
     "data": {
      "text/html": [
       "<div>\n",
       "<style scoped>\n",
       "    .dataframe tbody tr th:only-of-type {\n",
       "        vertical-align: middle;\n",
       "    }\n",
       "\n",
       "    .dataframe tbody tr th {\n",
       "        vertical-align: top;\n",
       "    }\n",
       "\n",
       "    .dataframe thead th {\n",
       "        text-align: right;\n",
       "    }\n",
       "</style>\n",
       "<table border=\"1\" class=\"dataframe\">\n",
       "  <thead>\n",
       "    <tr style=\"text-align: right;\">\n",
       "      <th></th>\n",
       "      <th>Age</th>\n",
       "      <th>BMI</th>\n",
       "      <th>Cholesterol</th>\n",
       "      <th>Systolic_BP</th>\n",
       "      <th>Diastolic_BP</th>\n",
       "      <th>Alcohol_Intake</th>\n",
       "      <th>Stress_Level</th>\n",
       "      <th>Salt_Intake</th>\n",
       "      <th>Sleep_Duration</th>\n",
       "      <th>Heart_Rate</th>\n",
       "      <th>LDL</th>\n",
       "      <th>HDL</th>\n",
       "      <th>Triglycerides</th>\n",
       "      <th>Glucose</th>\n",
       "    </tr>\n",
       "  </thead>\n",
       "  <tbody>\n",
       "    <tr>\n",
       "      <th>count</th>\n",
       "      <td>174982.000000</td>\n",
       "      <td>174982.000000</td>\n",
       "      <td>174982.000000</td>\n",
       "      <td>174982.000000</td>\n",
       "      <td>174982.000000</td>\n",
       "      <td>174982.000000</td>\n",
       "      <td>174982.000000</td>\n",
       "      <td>174982.000000</td>\n",
       "      <td>174982.000000</td>\n",
       "      <td>174982.000000</td>\n",
       "      <td>174982.000000</td>\n",
       "      <td>174982.000000</td>\n",
       "      <td>174982.000000</td>\n",
       "      <td>174982.000000</td>\n",
       "    </tr>\n",
       "    <tr>\n",
       "      <th>mean</th>\n",
       "      <td>53.493319</td>\n",
       "      <td>27.494672</td>\n",
       "      <td>224.539335</td>\n",
       "      <td>134.505229</td>\n",
       "      <td>89.450315</td>\n",
       "      <td>14.991069</td>\n",
       "      <td>5.013041</td>\n",
       "      <td>8.482757</td>\n",
       "      <td>6.996468</td>\n",
       "      <td>74.495085</td>\n",
       "      <td>129.528271</td>\n",
       "      <td>64.573105</td>\n",
       "      <td>149.569836</td>\n",
       "      <td>134.488187</td>\n",
       "    </tr>\n",
       "    <tr>\n",
       "      <th>std</th>\n",
       "      <td>20.786353</td>\n",
       "      <td>7.213866</td>\n",
       "      <td>43.361589</td>\n",
       "      <td>26.019268</td>\n",
       "      <td>17.310789</td>\n",
       "      <td>8.652624</td>\n",
       "      <td>2.582341</td>\n",
       "      <td>3.750074</td>\n",
       "      <td>1.730731</td>\n",
       "      <td>14.438573</td>\n",
       "      <td>34.635795</td>\n",
       "      <td>20.190666</td>\n",
       "      <td>57.765006</td>\n",
       "      <td>37.526882</td>\n",
       "    </tr>\n",
       "    <tr>\n",
       "      <th>min</th>\n",
       "      <td>18.000000</td>\n",
       "      <td>15.000000</td>\n",
       "      <td>150.000000</td>\n",
       "      <td>90.000000</td>\n",
       "      <td>60.000000</td>\n",
       "      <td>0.000000</td>\n",
       "      <td>1.000000</td>\n",
       "      <td>2.000000</td>\n",
       "      <td>4.000000</td>\n",
       "      <td>50.000000</td>\n",
       "      <td>70.000000</td>\n",
       "      <td>30.000000</td>\n",
       "      <td>50.000000</td>\n",
       "      <td>70.000000</td>\n",
       "    </tr>\n",
       "    <tr>\n",
       "      <th>25%</th>\n",
       "      <td>36.000000</td>\n",
       "      <td>21.200000</td>\n",
       "      <td>187.000000</td>\n",
       "      <td>112.000000</td>\n",
       "      <td>74.000000</td>\n",
       "      <td>7.500000</td>\n",
       "      <td>3.000000</td>\n",
       "      <td>5.200000</td>\n",
       "      <td>5.500000</td>\n",
       "      <td>62.000000</td>\n",
       "      <td>100.000000</td>\n",
       "      <td>47.000000</td>\n",
       "      <td>100.000000</td>\n",
       "      <td>102.000000</td>\n",
       "    </tr>\n",
       "    <tr>\n",
       "      <th>50%</th>\n",
       "      <td>54.000000</td>\n",
       "      <td>27.500000</td>\n",
       "      <td>225.000000</td>\n",
       "      <td>135.000000</td>\n",
       "      <td>89.000000</td>\n",
       "      <td>15.000000</td>\n",
       "      <td>5.000000</td>\n",
       "      <td>8.500000</td>\n",
       "      <td>7.000000</td>\n",
       "      <td>74.000000</td>\n",
       "      <td>130.000000</td>\n",
       "      <td>65.000000</td>\n",
       "      <td>150.000000</td>\n",
       "      <td>134.000000</td>\n",
       "    </tr>\n",
       "    <tr>\n",
       "      <th>75%</th>\n",
       "      <td>71.000000</td>\n",
       "      <td>33.700000</td>\n",
       "      <td>262.000000</td>\n",
       "      <td>157.000000</td>\n",
       "      <td>104.000000</td>\n",
       "      <td>22.500000</td>\n",
       "      <td>7.000000</td>\n",
       "      <td>11.700000</td>\n",
       "      <td>8.500000</td>\n",
       "      <td>87.000000</td>\n",
       "      <td>160.000000</td>\n",
       "      <td>82.000000</td>\n",
       "      <td>200.000000</td>\n",
       "      <td>167.000000</td>\n",
       "    </tr>\n",
       "    <tr>\n",
       "      <th>max</th>\n",
       "      <td>89.000000</td>\n",
       "      <td>40.000000</td>\n",
       "      <td>299.000000</td>\n",
       "      <td>179.000000</td>\n",
       "      <td>119.000000</td>\n",
       "      <td>30.000000</td>\n",
       "      <td>9.000000</td>\n",
       "      <td>15.000000</td>\n",
       "      <td>10.000000</td>\n",
       "      <td>99.000000</td>\n",
       "      <td>189.000000</td>\n",
       "      <td>99.000000</td>\n",
       "      <td>249.000000</td>\n",
       "      <td>199.000000</td>\n",
       "    </tr>\n",
       "  </tbody>\n",
       "</table>\n",
       "</div>"
      ],
      "text/plain": [
       "                 Age            BMI    Cholesterol    Systolic_BP  \\\n",
       "count  174982.000000  174982.000000  174982.000000  174982.000000   \n",
       "mean       53.493319      27.494672     224.539335     134.505229   \n",
       "std        20.786353       7.213866      43.361589      26.019268   \n",
       "min        18.000000      15.000000     150.000000      90.000000   \n",
       "25%        36.000000      21.200000     187.000000     112.000000   \n",
       "50%        54.000000      27.500000     225.000000     135.000000   \n",
       "75%        71.000000      33.700000     262.000000     157.000000   \n",
       "max        89.000000      40.000000     299.000000     179.000000   \n",
       "\n",
       "        Diastolic_BP  Alcohol_Intake   Stress_Level    Salt_Intake  \\\n",
       "count  174982.000000   174982.000000  174982.000000  174982.000000   \n",
       "mean       89.450315       14.991069       5.013041       8.482757   \n",
       "std        17.310789        8.652624       2.582341       3.750074   \n",
       "min        60.000000        0.000000       1.000000       2.000000   \n",
       "25%        74.000000        7.500000       3.000000       5.200000   \n",
       "50%        89.000000       15.000000       5.000000       8.500000   \n",
       "75%       104.000000       22.500000       7.000000      11.700000   \n",
       "max       119.000000       30.000000       9.000000      15.000000   \n",
       "\n",
       "       Sleep_Duration     Heart_Rate            LDL            HDL  \\\n",
       "count   174982.000000  174982.000000  174982.000000  174982.000000   \n",
       "mean         6.996468      74.495085     129.528271      64.573105   \n",
       "std          1.730731      14.438573      34.635795      20.190666   \n",
       "min          4.000000      50.000000      70.000000      30.000000   \n",
       "25%          5.500000      62.000000     100.000000      47.000000   \n",
       "50%          7.000000      74.000000     130.000000      65.000000   \n",
       "75%          8.500000      87.000000     160.000000      82.000000   \n",
       "max         10.000000      99.000000     189.000000      99.000000   \n",
       "\n",
       "       Triglycerides        Glucose  \n",
       "count  174982.000000  174982.000000  \n",
       "mean      149.569836     134.488187  \n",
       "std        57.765006      37.526882  \n",
       "min        50.000000      70.000000  \n",
       "25%       100.000000     102.000000  \n",
       "50%       150.000000     134.000000  \n",
       "75%       200.000000     167.000000  \n",
       "max       249.000000     199.000000  "
      ]
     },
     "execution_count": 6,
     "metadata": {},
     "output_type": "execute_result"
    }
   ],
   "source": [
    "# Describe the dataset\n",
    "df.describe()"
   ]
  },
  {
   "cell_type": "code",
   "execution_count": 7,
   "metadata": {},
   "outputs": [
    {
     "name": "stdout",
     "output_type": "stream",
     "text": [
      "<class 'pandas.core.frame.DataFrame'>\n",
      "RangeIndex: 174982 entries, 0 to 174981\n",
      "Data columns (total 23 columns):\n",
      " #   Column                   Non-Null Count   Dtype  \n",
      "---  ------                   --------------   -----  \n",
      " 0   Country                  174982 non-null  object \n",
      " 1   Age                      174982 non-null  int64  \n",
      " 2   BMI                      174982 non-null  float64\n",
      " 3   Cholesterol              174982 non-null  int64  \n",
      " 4   Systolic_BP              174982 non-null  int64  \n",
      " 5   Diastolic_BP             174982 non-null  int64  \n",
      " 6   Smoking_Status           174982 non-null  object \n",
      " 7   Alcohol_Intake           174982 non-null  float64\n",
      " 8   Physical_Activity_Level  174982 non-null  object \n",
      " 9   Family_History           174982 non-null  object \n",
      " 10  Diabetes                 174982 non-null  object \n",
      " 11  Stress_Level             174982 non-null  int64  \n",
      " 12  Salt_Intake              174982 non-null  float64\n",
      " 13  Sleep_Duration           174982 non-null  float64\n",
      " 14  Heart_Rate               174982 non-null  int64  \n",
      " 15  LDL                      174982 non-null  int64  \n",
      " 16  HDL                      174982 non-null  int64  \n",
      " 17  Triglycerides            174982 non-null  int64  \n",
      " 18  Glucose                  174982 non-null  int64  \n",
      " 19  Gender                   174982 non-null  object \n",
      " 20  Education_Level          174982 non-null  object \n",
      " 21  Employment_Status        174982 non-null  object \n",
      " 22  Hypertension             174982 non-null  object \n",
      "dtypes: float64(4), int64(10), object(9)\n",
      "memory usage: 30.7+ MB\n"
     ]
    }
   ],
   "source": [
    "df.info()"
   ]
  },
  {
   "cell_type": "code",
   "execution_count": 8,
   "metadata": {},
   "outputs": [
    {
     "data": {
      "text/plain": [
       "Country                     object\n",
       "Age                          int64\n",
       "BMI                        float64\n",
       "Cholesterol                  int64\n",
       "Systolic_BP                  int64\n",
       "Diastolic_BP                 int64\n",
       "Smoking_Status              object\n",
       "Alcohol_Intake             float64\n",
       "Physical_Activity_Level     object\n",
       "Family_History              object\n",
       "Diabetes                    object\n",
       "Stress_Level                 int64\n",
       "Salt_Intake                float64\n",
       "Sleep_Duration             float64\n",
       "Heart_Rate                   int64\n",
       "LDL                          int64\n",
       "HDL                          int64\n",
       "Triglycerides                int64\n",
       "Glucose                      int64\n",
       "Gender                      object\n",
       "Education_Level             object\n",
       "Employment_Status           object\n",
       "Hypertension                object\n",
       "dtype: object"
      ]
     },
     "execution_count": 8,
     "metadata": {},
     "output_type": "execute_result"
    }
   ],
   "source": [
    "# Checking data types\n",
    "df.dtypes"
   ]
  },
  {
   "cell_type": "code",
   "execution_count": 9,
   "metadata": {},
   "outputs": [
    {
     "data": {
      "text/plain": [
       "Index(['Country', 'Age', 'BMI', 'Cholesterol', 'Systolic_BP', 'Diastolic_BP',\n",
       "       'Smoking_Status', 'Alcohol_Intake', 'Physical_Activity_Level',\n",
       "       'Family_History', 'Diabetes', 'Stress_Level', 'Salt_Intake',\n",
       "       'Sleep_Duration', 'Heart_Rate', 'LDL', 'HDL', 'Triglycerides',\n",
       "       'Glucose', 'Gender', 'Education_Level', 'Employment_Status',\n",
       "       'Hypertension'],\n",
       "      dtype='object')"
      ]
     },
     "execution_count": 9,
     "metadata": {},
     "output_type": "execute_result"
    }
   ],
   "source": [
    "# Checking column names\n",
    "df.columns"
   ]
  },
  {
   "cell_type": "code",
   "execution_count": 10,
   "metadata": {},
   "outputs": [
    {
     "data": {
      "text/plain": [
       "Country                     20\n",
       "Age                         72\n",
       "BMI                        251\n",
       "Cholesterol                150\n",
       "Systolic_BP                 90\n",
       "Diastolic_BP                60\n",
       "Smoking_Status               3\n",
       "Alcohol_Intake             301\n",
       "Physical_Activity_Level      3\n",
       "Family_History               2\n",
       "Diabetes                     2\n",
       "Stress_Level                 9\n",
       "Salt_Intake                131\n",
       "Sleep_Duration              61\n",
       "Heart_Rate                  50\n",
       "LDL                        120\n",
       "HDL                         70\n",
       "Triglycerides              200\n",
       "Glucose                    130\n",
       "Gender                       2\n",
       "Education_Level              3\n",
       "Employment_Status            3\n",
       "Hypertension                 2\n",
       "dtype: int64"
      ]
     },
     "execution_count": 10,
     "metadata": {},
     "output_type": "execute_result"
    }
   ],
   "source": [
    "# Checking for unique values\n",
    "df.nunique()"
   ]
  },
  {
   "cell_type": "code",
   "execution_count": 11,
   "metadata": {},
   "outputs": [
    {
     "data": {
      "text/plain": [
       "Country                    0\n",
       "Age                        0\n",
       "BMI                        0\n",
       "Cholesterol                0\n",
       "Systolic_BP                0\n",
       "Diastolic_BP               0\n",
       "Smoking_Status             0\n",
       "Alcohol_Intake             0\n",
       "Physical_Activity_Level    0\n",
       "Family_History             0\n",
       "Diabetes                   0\n",
       "Stress_Level               0\n",
       "Salt_Intake                0\n",
       "Sleep_Duration             0\n",
       "Heart_Rate                 0\n",
       "LDL                        0\n",
       "HDL                        0\n",
       "Triglycerides              0\n",
       "Glucose                    0\n",
       "Gender                     0\n",
       "Education_Level            0\n",
       "Employment_Status          0\n",
       "Hypertension               0\n",
       "dtype: int64"
      ]
     },
     "execution_count": 11,
     "metadata": {},
     "output_type": "execute_result"
    }
   ],
   "source": [
    "# Checking for missing values\n",
    "missing_values = df.isnull().sum()\n",
    "missing_values"
   ]
  },
  {
   "cell_type": "code",
   "execution_count": 12,
   "metadata": {},
   "outputs": [
    {
     "data": {
      "text/plain": [
       "0"
      ]
     },
     "execution_count": 12,
     "metadata": {},
     "output_type": "execute_result"
    }
   ],
   "source": [
    "# Checking for duplicated values\n",
    "duplicated_values = df.duplicated().sum()\n",
    "duplicated_values"
   ]
  },
  {
   "cell_type": "code",
   "execution_count": 13,
   "metadata": {},
   "outputs": [
    {
     "name": "stdout",
     "output_type": "stream",
     "text": [
      "Proportion of Hypertension Values\n"
     ]
    },
    {
     "data": {
      "text/plain": [
       "Hypertension\n",
       "High    0.718823\n",
       "Low     0.281177\n",
       "Name: proportion, dtype: float64"
      ]
     },
     "execution_count": 13,
     "metadata": {},
     "output_type": "execute_result"
    }
   ],
   "source": [
    "# Checkign the distrubution of Hypertension values\n",
    "print(\"Proportion of Hypertension Values\")\n",
    "df['Hypertension'].value_counts(normalize=True)"
   ]
  }
 ],
 "metadata": {
  "kernelspec": {
   "display_name": "base",
   "language": "python",
   "name": "python3"
  },
  "language_info": {
   "codemirror_mode": {
    "name": "ipython",
    "version": 3
   },
   "file_extension": ".py",
   "mimetype": "text/x-python",
   "name": "python",
   "nbconvert_exporter": "python",
   "pygments_lexer": "ipython3",
   "version": "3.12.7"
  }
 },
 "nbformat": 4,
 "nbformat_minor": 2
}
